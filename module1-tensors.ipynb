{
 "cells": [
  {
   "cell_type": "markdown",
   "source": [
    "# Module 1 - Tensors\n",
    "Tensors are specialized data structures that are very similar to arrays and matrices. We will use tensors to encode the inputs and outputs of a model, as well as the model's parameters.\n",
    "\n",
    "Tensors are similar to Numpy's ndarrays, except tensors can run on GPUs or other specialized hardware to accelerate computing."
   ],
   "metadata": {
    "collapsed": false
   },
   "id": "64cc298c96aa0485"
  },
  {
   "cell_type": "markdown",
   "source": [
    "## Tensor Initialization"
   ],
   "metadata": {
    "collapsed": false
   },
   "id": "527fc4bd6a853e13"
  },
  {
   "cell_type": "code",
   "execution_count": 1,
   "outputs": [],
   "source": [
    "import torch\n",
    "import numpy as np"
   ],
   "metadata": {
    "collapsed": false,
    "ExecuteTime": {
     "end_time": "2023-08-23T00:43:22.436006Z",
     "start_time": "2023-08-23T00:43:21.518785Z"
    }
   },
   "id": "4895ed9cfad7c3ad"
  },
  {
   "cell_type": "markdown",
   "source": [
    "Tensors can be initialized in various ways:\n",
    "- Directly from data\n",
    "- From a NumPy array\n",
    "- From another tensor\n",
    "- With random or constant values"
   ],
   "metadata": {
    "collapsed": false
   },
   "id": "81eafef2d6f31c0f"
  },
  {
   "cell_type": "code",
   "execution_count": 6,
   "outputs": [
    {
     "name": "stdout",
     "output_type": "stream",
     "text": [
      "tensor([[1, 2],\n",
      "        [3, 4]])\n"
     ]
    }
   ],
   "source": [
    "data = [[1, 2], [3, 4]]\n",
    "x_data = torch.tensor(data)\n",
    "\n",
    "print(x_data)"
   ],
   "metadata": {
    "collapsed": false,
    "ExecuteTime": {
     "end_time": "2023-08-23T00:44:40.691843Z",
     "start_time": "2023-08-23T00:44:40.683961Z"
    }
   },
   "id": "bb1914c8f7d9a836"
  },
  {
   "cell_type": "code",
   "execution_count": 8,
   "outputs": [
    {
     "name": "stdout",
     "output_type": "stream",
     "text": [
      "tensor([[1, 2],\n",
      "        [3, 4]])\n"
     ]
    }
   ],
   "source": [
    "np_array = np.array(data)\n",
    "x_np = torch.from_numpy(np_array)\n",
    "\n",
    "print(x_np)"
   ],
   "metadata": {
    "collapsed": false,
    "ExecuteTime": {
     "end_time": "2023-08-23T00:45:21.314355Z",
     "start_time": "2023-08-23T00:45:21.297094Z"
    }
   },
   "id": "2e3d065922df95be"
  },
  {
   "cell_type": "code",
   "execution_count": 5,
   "outputs": [
    {
     "name": "stdout",
     "output_type": "stream",
     "text": [
      "tensor([[1, 1],\n",
      "        [1, 1]])\n",
      "tensor([[0.6329, 0.6959],\n",
      "        [0.7710, 0.7080]])\n"
     ]
    }
   ],
   "source": [
    "x_ones = torch.ones_like(x_data)\n",
    "x_rand = torch.rand_like(x_data, dtype=torch.float)\n",
    "\n",
    "print(x_ones)\n",
    "print(x_rand)"
   ],
   "metadata": {
    "collapsed": false,
    "ExecuteTime": {
     "end_time": "2023-08-23T00:44:30.956495Z",
     "start_time": "2023-08-23T00:44:30.950589Z"
    }
   },
   "id": "5fff4dad7e204f70"
  },
  {
   "cell_type": "code",
   "execution_count": 9,
   "outputs": [
    {
     "name": "stdout",
     "output_type": "stream",
     "text": [
      "tensor([[0.1881, 0.9634, 0.0495],\n",
      "        [0.3696, 0.5629, 0.3127]])\n",
      "tensor([[1., 1., 1.],\n",
      "        [1., 1., 1.]])\n",
      "tensor([[0., 0., 0.],\n",
      "        [0., 0., 0.]])\n"
     ]
    }
   ],
   "source": [
    "shape = (2, 3,)\n",
    "rand_tensor = torch.rand(shape)\n",
    "ones_tensor = torch.ones(shape)\n",
    "zeros_tensor = torch.zeros(shape)\n",
    "\n",
    "print(rand_tensor)\n",
    "print(ones_tensor)\n",
    "print(zeros_tensor)"
   ],
   "metadata": {
    "collapsed": false,
    "ExecuteTime": {
     "end_time": "2023-08-23T00:46:09.574651Z",
     "start_time": "2023-08-23T00:46:09.562733Z"
    }
   },
   "id": "7e84d8b473709ba8"
  },
  {
   "cell_type": "markdown",
   "source": [
    "## Tensor Attributes"
   ],
   "metadata": {
    "collapsed": false
   },
   "id": "da4d436f4293b670"
  },
  {
   "cell_type": "markdown",
   "source": [
    "Tensor attributes describe their shape, datatype, and the device on which they are stored:"
   ],
   "metadata": {
    "collapsed": false
   },
   "id": "113b8764ec5a405f"
  },
  {
   "cell_type": "code",
   "execution_count": 10,
   "outputs": [
    {
     "name": "stdout",
     "output_type": "stream",
     "text": [
      "torch.Size([3, 4])\n",
      "torch.float32\n",
      "cpu\n"
     ]
    }
   ],
   "source": [
    "tensor = torch.rand(3,4)\n",
    "print(tensor.shape)\n",
    "print(tensor.dtype)\n",
    "print(tensor.device)"
   ],
   "metadata": {
    "collapsed": false,
    "ExecuteTime": {
     "end_time": "2023-08-23T00:48:57.515572Z",
     "start_time": "2023-08-23T00:48:57.509031Z"
    }
   },
   "id": "275852ddd275de43"
  },
  {
   "cell_type": "markdown",
   "source": [
    "## Tensor Operations\n",
    "Over 100 tensor operations, including transposing, indexing, slicing, mathematical operations, linear algebra, random sampling, here: https://pytorch.org/docs/stable/torch.html\n",
    "Each can be run on GPU (higher speeds than CPU)"
   ],
   "metadata": {
    "collapsed": false
   },
   "id": "3ade063083b550ec"
  },
  {
   "cell_type": "code",
   "execution_count": 28,
   "outputs": [
    {
     "name": "stdout",
     "output_type": "stream",
     "text": [
      "mps:0\n"
     ]
    }
   ],
   "source": [
    "if torch.cuda.is_available():\n",
    "    tensor = tensor.to(\"cuda\")\n",
    "    print(tensor.device)\n",
    "if not torch.backends.mps.is_available():\n",
    "    if not torch.backends.mps.is_built():\n",
    "        print(\"MPS not available because the current PyTorch install was not \"\n",
    "              \"built with MPS enabled.\")\n",
    "    else:\n",
    "        print(\"MPS not available because the current MacOS version is not 12.3+ \"\n",
    "              \"and/or you do not have an MPS-enabled device on this machine.\")\n",
    "else:\n",
    "    mps_device = torch.device(\"mps\")\n",
    "    torch.set_default_device(mps_device)\n",
    "    print(tensor.device)"
   ],
   "metadata": {
    "collapsed": false,
    "ExecuteTime": {
     "end_time": "2023-08-23T00:57:17.318749Z",
     "start_time": "2023-08-23T00:57:17.314622Z"
    }
   },
   "id": "eed92e77bcdec529"
  },
  {
   "cell_type": "markdown",
   "source": [
    "Standard numpy-like indexing and slicing:"
   ],
   "metadata": {
    "collapsed": false
   },
   "id": "3acaef92e47832b2"
  },
  {
   "cell_type": "code",
   "execution_count": 30,
   "outputs": [
    {
     "name": "stdout",
     "output_type": "stream",
     "text": [
      "tensor([[1., 0., 1., 1.],\n",
      "        [1., 0., 1., 1.],\n",
      "        [1., 0., 1., 1.],\n",
      "        [1., 0., 1., 1.]], device='mps:0')\n",
      "mps:0\n"
     ]
    }
   ],
   "source": [
    "tensor = torch.ones(4, 4)\n",
    "tensor[:,1] = 0\n",
    "print(tensor)"
   ],
   "metadata": {
    "collapsed": false,
    "ExecuteTime": {
     "end_time": "2023-08-23T00:57:26.050520Z",
     "start_time": "2023-08-23T00:57:26.026870Z"
    }
   },
   "id": "cb4c76d386638128"
  },
  {
   "cell_type": "code",
   "execution_count": 35,
   "outputs": [
    {
     "name": "stdout",
     "output_type": "stream",
     "text": [
      "tensor([[1., 0., 1., 1., 1., 0., 1., 1., 1., 0., 1., 1.],\n",
      "        [1., 0., 1., 1., 1., 0., 1., 1., 1., 0., 1., 1.],\n",
      "        [1., 0., 1., 1., 1., 0., 1., 1., 1., 0., 1., 1.],\n",
      "        [1., 0., 1., 1., 1., 0., 1., 1., 1., 0., 1., 1.]], device='mps:0')\n",
      "tensor([[1., 0., 1., 1.],\n",
      "        [1., 0., 1., 1.],\n",
      "        [1., 0., 1., 1.],\n",
      "        [1., 0., 1., 1.],\n",
      "        [1., 0., 1., 1.],\n",
      "        [1., 0., 1., 1.],\n",
      "        [1., 0., 1., 1.],\n",
      "        [1., 0., 1., 1.],\n",
      "        [1., 0., 1., 1.],\n",
      "        [1., 0., 1., 1.],\n",
      "        [1., 0., 1., 1.],\n",
      "        [1., 0., 1., 1.]], device='mps:0')\n"
     ]
    }
   ],
   "source": [
    "t1 = torch.cat([tensor, tensor, tensor], dim=1)\n",
    "print(t1)\n",
    "t2 = torch.cat([tensor, tensor, tensor], dim=0)\n",
    "print(t2)"
   ],
   "metadata": {
    "collapsed": false,
    "ExecuteTime": {
     "end_time": "2023-08-23T00:58:13.486837Z",
     "start_time": "2023-08-23T00:58:13.436935Z"
    }
   },
   "id": "f3c525ca5e2aee6f"
  },
  {
   "cell_type": "code",
   "execution_count": 38,
   "outputs": [
    {
     "data": {
      "text/plain": "tensor([[1., 0., 1., 1.],\n        [1., 0., 1., 1.],\n        [1., 0., 1., 1.],\n        [1., 0., 1., 1.]], device='mps:0')"
     },
     "execution_count": 38,
     "metadata": {},
     "output_type": "execute_result"
    }
   ],
   "source": [
    "tensor.mul(tensor)"
   ],
   "metadata": {
    "collapsed": false,
    "ExecuteTime": {
     "end_time": "2023-08-23T00:58:43.436439Z",
     "start_time": "2023-08-23T00:58:43.404360Z"
    }
   },
   "id": "8626f1c47f6640e3"
  },
  {
   "cell_type": "code",
   "execution_count": 39,
   "outputs": [
    {
     "data": {
      "text/plain": "tensor([[1., 0., 1., 1.],\n        [1., 0., 1., 1.],\n        [1., 0., 1., 1.],\n        [1., 0., 1., 1.]], device='mps:0')"
     },
     "execution_count": 39,
     "metadata": {},
     "output_type": "execute_result"
    }
   ],
   "source": [
    "tensor * tensor"
   ],
   "metadata": {
    "collapsed": false,
    "ExecuteTime": {
     "end_time": "2023-08-23T00:58:50.882630Z",
     "start_time": "2023-08-23T00:58:50.847986Z"
    }
   },
   "id": "2abd92088d2f5435"
  },
  {
   "cell_type": "code",
   "execution_count": 40,
   "outputs": [
    {
     "data": {
      "text/plain": "tensor([[3., 3., 3., 3.],\n        [3., 3., 3., 3.],\n        [3., 3., 3., 3.],\n        [3., 3., 3., 3.]], device='mps:0')"
     },
     "execution_count": 40,
     "metadata": {},
     "output_type": "execute_result"
    }
   ],
   "source": [
    "tensor.matmul(tensor.T)"
   ],
   "metadata": {
    "collapsed": false,
    "ExecuteTime": {
     "end_time": "2023-08-23T00:59:16.506373Z",
     "start_time": "2023-08-23T00:59:16.383803Z"
    }
   },
   "id": "ea35a7ba169c1bc4"
  },
  {
   "cell_type": "code",
   "execution_count": 41,
   "outputs": [
    {
     "data": {
      "text/plain": "tensor([[3., 3., 3., 3.],\n        [3., 3., 3., 3.],\n        [3., 3., 3., 3.],\n        [3., 3., 3., 3.]], device='mps:0')"
     },
     "execution_count": 41,
     "metadata": {},
     "output_type": "execute_result"
    }
   ],
   "source": [
    "tensor @ tensor.T"
   ],
   "metadata": {
    "collapsed": false,
    "ExecuteTime": {
     "end_time": "2023-08-23T00:59:44.227514Z",
     "start_time": "2023-08-23T00:59:44.196130Z"
    }
   },
   "id": "f3d1e3368943d458"
  },
  {
   "cell_type": "code",
   "execution_count": 45,
   "outputs": [
    {
     "data": {
      "text/plain": "tensor([[21., 20., 21., 21.],\n        [21., 20., 21., 21.],\n        [21., 20., 21., 21.],\n        [21., 20., 21., 21.]], device='mps:0')"
     },
     "execution_count": 45,
     "metadata": {},
     "output_type": "execute_result"
    }
   ],
   "source": [
    "#In place operations have a _ suffix\n",
    "\n",
    "#In place operations save some memory, but can be problematic when computing derivatives because of an immediate loss of history.\n",
    "tensor.add_(5)"
   ],
   "metadata": {
    "collapsed": false,
    "ExecuteTime": {
     "end_time": "2023-08-23T01:00:54.400546Z",
     "start_time": "2023-08-23T01:00:54.173446Z"
    }
   },
   "id": "8f51e4b2783e2c84"
  },
  {
   "cell_type": "markdown",
   "source": [
    "Tensors on the CPU and NumPy arrays can share their underlying memory locations, and changing one will change the other:"
   ],
   "metadata": {
    "collapsed": false
   },
   "id": "fa737321fcd50a92"
  },
  {
   "cell_type": "code",
   "execution_count": 50,
   "outputs": [
    {
     "name": "stdout",
     "output_type": "stream",
     "text": [
      "tensor([1., 1., 1., 1., 1.])\n",
      "tensor([1., 1., 1., 1., 1.])\n",
      "tensor([2., 2., 2., 2., 2.])\n",
      "[2. 2. 2. 2. 2.]\n"
     ]
    }
   ],
   "source": [
    "t = torch.ones(5, device=\"cpu\")\n",
    "print(t)\n",
    "n = t.numpy()\n",
    "print(t)\n",
    "\n",
    "t.add_(1)\n",
    "print(t)\n",
    "print(n)\n"
   ],
   "metadata": {
    "collapsed": false,
    "ExecuteTime": {
     "end_time": "2023-08-23T01:02:30.638518Z",
     "start_time": "2023-08-23T01:02:30.631082Z"
    }
   },
   "id": "ab213bd158c67098"
  },
  {
   "cell_type": "code",
   "execution_count": null,
   "outputs": [],
   "source": [],
   "metadata": {
    "collapsed": false
   },
   "id": "7ceef418794b4423"
  }
 ],
 "metadata": {
  "kernelspec": {
   "display_name": "Python 3",
   "language": "python",
   "name": "python3"
  },
  "language_info": {
   "codemirror_mode": {
    "name": "ipython",
    "version": 2
   },
   "file_extension": ".py",
   "mimetype": "text/x-python",
   "name": "python",
   "nbconvert_exporter": "python",
   "pygments_lexer": "ipython2",
   "version": "2.7.6"
  }
 },
 "nbformat": 4,
 "nbformat_minor": 5
}
