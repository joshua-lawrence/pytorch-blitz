{
 "cells": [
  {
   "cell_type": "markdown",
   "source": [
    "# Module 2 - A Gentle Introduction to TORCH.AUTOGRAD\n",
    "`torch.autograd` is PyTorch's automatic differentiation engine that powers neural network training.\n",
    "\n",
    "## Background \n",
    "NNs are a collection of nested functions that are executed on some input. These functions are defined by parameters (consisting of weights and biases), which in PyTorch are stored in tensors.\n",
    "\n",
    "Training a NN happens in two steps:\n",
    "Forward Propagation: In forward prop, the NN makes it best guess about the correct output. It runs the input data through each of its functions to make this guess.\n",
    "Backward Propagation: In backprop, the NN adjusts its parameters proportionally to the error of its guess. It does this by traversing backwards from the output, collecting the derivatives of the error with respect to the parameters of the functions (gradients), and optimizing the parameters using gradient descent."
   ],
   "metadata": {
    "collapsed": false
   },
   "id": "70c1107be5c09892"
  },
  {
   "cell_type": "markdown",
   "source": [],
   "metadata": {
    "collapsed": false
   },
   "id": "a09a473c94106ab4"
  },
  {
   "cell_type": "code",
   "execution_count": 12,
   "outputs": [],
   "source": [
    "import torch\n",
    "from torchvision.models import resnet18, ResNet18_Weights\n",
    "model = resnet18(weights=ResNet18_Weights.DEFAULT)\n",
    "data = torch.rand(1, 3, 64, 64)\n",
    "labels = torch.rand(1, 1000)\n",
    "\n",
    "#Next, run input data through the model through each of its layers to make a prediction. This is a forward pass:\n",
    "prediction = model(data)\n",
    "# Use the model's prediction and the corresponding label to calculate the error (loss). The next step is to backprop this error through the network. Backprop is kicked off when we call backward() on the error tensor. Autograd then calculates and stores the gradients for each model parameter in the parameter's .grad attribute.\n",
    "loss = (prediction - labels).sum()\n",
    "loss.backward()\n",
    "\n",
    "optim = torch.optim.SGD(model.parameters(), lr=1e-2, momentum=0.9)\n",
    "optim.step()"
   ],
   "metadata": {
    "collapsed": false,
    "ExecuteTime": {
     "end_time": "2023-08-23T01:11:51.227752Z",
     "start_time": "2023-08-23T01:11:50.812546Z"
    }
   },
   "id": "4e258ffa7a27c31b"
  },
  {
   "cell_type": "code",
   "execution_count": 35,
   "outputs": [
    {
     "name": "stdout",
     "output_type": "stream",
     "text": [
      "tensor([-12.,  65.], device='mps:0', grad_fn=<SubBackward0>)\n"
     ]
    }
   ],
   "source": [
    "torch.set_default_device(\"mps\")\n",
    "a = torch.tensor([2., 3.], requires_grad=True)\n",
    "b = torch.tensor([6., 4.], requires_grad=True)\n",
    "\n",
    "Q = 3*a**3 - b**2\n",
    "print(Q)\n"
   ],
   "metadata": {
    "collapsed": false,
    "ExecuteTime": {
     "end_time": "2023-08-23T01:27:10.434984Z",
     "start_time": "2023-08-23T01:27:10.423671Z"
    }
   },
   "id": "30c85b3c9aeea0e9"
  },
  {
   "cell_type": "code",
   "execution_count": 38,
   "outputs": [
    {
     "name": "stdout",
     "output_type": "stream",
     "text": [
      "tensor([True, True], device='mps:0')\n",
      "tensor([True, True], device='mps:0')\n"
     ]
    }
   ],
   "source": [
    "external_grad = torch.tensor([1., 1.])\n",
    "a = torch.tensor([2., 3.], requires_grad=True)\n",
    "b = torch.tensor([6., 4.], requires_grad=True)\n",
    "Q = 3*a**3 - b**2\n",
    "Q.backward(gradient=external_grad)\n",
    "print(9*a**2 == a.grad)\n",
    "print(-2*b == b.grad)"
   ],
   "metadata": {
    "collapsed": false,
    "ExecuteTime": {
     "end_time": "2023-08-23T01:27:22.636591Z",
     "start_time": "2023-08-23T01:27:22.622011Z"
    }
   },
   "id": "cb47618783276281"
  },
  {
   "cell_type": "markdown",
   "source": [
    "In a NN, parameters that don’t compute gradients are usually called frozen parameters. It is useful to “freeze” part of your model if you know in advance that you won’t need the gradients of those parameters (this offers some performance benefits by reducing autograd computations).\n",
    "\n",
    "In finetuning, we freeze most of the model and typically only modify the classifier layers to make predictions on new labels. Let’s walk through a small example to demonstrate this. As before, we load a pretrained resnet18 model, and freeze all the parameters."
   ],
   "metadata": {
    "collapsed": false
   },
   "id": "8805bc568c30d9d6"
  },
  {
   "cell_type": "code",
   "execution_count": 39,
   "outputs": [],
   "source": [
    "from torch import nn, optim\n",
    "\n",
    "model = resnet18(weights=ResNet18_Weights.DEFAULT)\n",
    "\n",
    "# Freeze all the parameters in the network\n",
    "for param in model.parameters():\n",
    "    param.requires_grad = False\n",
    "    "
   ],
   "metadata": {
    "collapsed": false,
    "ExecuteTime": {
     "end_time": "2023-08-23T01:30:18.361034Z",
     "start_time": "2023-08-23T01:30:17.834467Z"
    }
   },
   "id": "234165d3c90cd5d3"
  },
  {
   "cell_type": "markdown",
   "source": [
    "Let’s say we want to finetune the model on a new dataset with 10 labels. In resnet, the classifier is the last linear layer model.fc. We can simply replace it with a new linear layer (unfrozen by default) that acts as our classifier.\n"
   ],
   "metadata": {
    "collapsed": false
   },
   "id": "1bf5c296e2b7ab2a"
  },
  {
   "cell_type": "code",
   "execution_count": 41,
   "outputs": [],
   "source": [
    "model.fc = nn.Linear(512, 10)\n",
    "optimizer = optim.SGD(model.parameters(), lr=1e-2, momentum=0.9)\n"
   ],
   "metadata": {
    "collapsed": false,
    "ExecuteTime": {
     "end_time": "2023-08-23T01:31:04.856797Z",
     "start_time": "2023-08-23T01:31:04.834771Z"
    }
   },
   "id": "4c9cd298e6889fdc"
  }
 ],
 "metadata": {
  "kernelspec": {
   "display_name": "Python 3",
   "language": "python",
   "name": "python3"
  },
  "language_info": {
   "codemirror_mode": {
    "name": "ipython",
    "version": 2
   },
   "file_extension": ".py",
   "mimetype": "text/x-python",
   "name": "python",
   "nbconvert_exporter": "python",
   "pygments_lexer": "ipython2",
   "version": "2.7.6"
  }
 },
 "nbformat": 4,
 "nbformat_minor": 5
}
