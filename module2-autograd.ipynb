{
 "cells": [
  {
   "cell_type": "markdown",
   "source": [
    "# Module 2 - A Gentle Introduction to TORCH.AUTOGRAD\n",
    "`torch.autograd` is PyTorch's automatic differentiation engine that powers neural network training.\n",
    "\n",
    "## Background \n",
    "NNs are a collection of nested functions that are executed on some input. These functions are defined by parameters (consisting of weights and biases), which in PyTorch are stored in tensors.\n",
    "\n",
    "Training a NN happens in two steps:\n",
    "Forward Propagation: In forward prop, the NN makes it best guess about the correct output. It runs the input data through each of its functions to make this guess.\n",
    "Backward Propagation: In backprop, the NN adjusts its parameters proportionally to the error of its guess. It does this by traversing backwards from the output, collecting the derivatives of the error with respect to the parameters of the functions (gradients), and optimizing the parameters using gradient descent."
   ],
   "metadata": {
    "collapsed": false
   },
   "id": "70c1107be5c09892"
  },
  {
   "cell_type": "markdown",
   "source": [],
   "metadata": {
    "collapsed": false
   },
   "id": "a09a473c94106ab4"
  },
  {
   "cell_type": "code",
   "execution_count": 12,
   "outputs": [],
   "source": [
    "import torch\n",
    "from torchvision.models import resnet18, ResNet18_Weights\n",
    "model = resnet18(weights=ResNet18_Weights.DEFAULT)\n",
    "data = torch.rand(1, 3, 64, 64)\n",
    "labels = torch.rand(1, 1000)\n",
    "\n",
    "#Next, run input data through the model through each of its layers to make a prediction. This is a forward pass:\n",
    "prediction = model(data)\n",
    "# Use the model's prediction and the corresponding label to calculate the error (loss). The next step is to backprop this error through the network. Backprop is kicked off when we call backward() on the error tensor. Autograd then calculates and stores the gradients for each model parameter in the parameter's .grad attribute.\n",
    "loss = (prediction - labels).sum()\n",
    "loss.backward()\n",
    "\n",
    "optim = torch.optim.SGD(model.parameters(), lr=1e-2, momentum=0.9)\n",
    "optim.step()"
   ],
   "metadata": {
    "collapsed": false,
    "ExecuteTime": {
     "end_time": "2023-08-23T01:11:51.227752Z",
     "start_time": "2023-08-23T01:11:50.812546Z"
    }
   },
   "id": "4e258ffa7a27c31b"
  },
  {
   "cell_type": "code",
   "execution_count": null,
   "outputs": [],
   "source": [],
   "metadata": {
    "collapsed": false
   },
   "id": "30c85b3c9aeea0e9"
  }
 ],
 "metadata": {
  "kernelspec": {
   "display_name": "Python 3",
   "language": "python",
   "name": "python3"
  },
  "language_info": {
   "codemirror_mode": {
    "name": "ipython",
    "version": 2
   },
   "file_extension": ".py",
   "mimetype": "text/x-python",
   "name": "python",
   "nbconvert_exporter": "python",
   "pygments_lexer": "ipython2",
   "version": "2.7.6"
  }
 },
 "nbformat": 4,
 "nbformat_minor": 5
}
