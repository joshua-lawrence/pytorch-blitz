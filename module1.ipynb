{
 "cells": [
  {
   "cell_type": "markdown",
   "source": [
    "# Module 1\n",
    "Tensors are specialized data structures that are very similar to arrays and matrices. We will use tensors to encode the inputs and outputs of a model, as well as the model's parameters.\n",
    "\n",
    "Tensors are similar to Numpy's ndarrays, except tensors can run on GPUs or other specialized hardware to accelerate computing."
   ],
   "metadata": {
    "collapsed": false
   },
   "id": "64cc298c96aa0485"
  },
  {
   "cell_type": "markdown",
   "source": [],
   "metadata": {
    "collapsed": false
   },
   "id": "527fc4bd6a853e13"
  },
  {
   "cell_type": "code",
   "execution_count": 1,
   "outputs": [],
   "source": [
    "import torch\n",
    "import numpy as np"
   ],
   "metadata": {
    "collapsed": false,
    "ExecuteTime": {
     "end_time": "2023-08-23T00:43:22.436006Z",
     "start_time": "2023-08-23T00:43:21.518785Z"
    }
   },
   "id": "4895ed9cfad7c3ad"
  },
  {
   "cell_type": "markdown",
   "source": [
    "Tensors can be initialized in various ways:\n",
    "- Directly from data\n",
    "- From a NumPy array\n",
    "- From another tensor\n",
    "- With random or constant values"
   ],
   "metadata": {
    "collapsed": false
   },
   "id": "81eafef2d6f31c0f"
  },
  {
   "cell_type": "code",
   "execution_count": 6,
   "outputs": [
    {
     "name": "stdout",
     "output_type": "stream",
     "text": [
      "tensor([[1, 2],\n",
      "        [3, 4]])\n"
     ]
    }
   ],
   "source": [
    "data = [[1, 2], [3, 4]]\n",
    "x_data = torch.tensor(data)\n",
    "\n",
    "print(x_data)"
   ],
   "metadata": {
    "collapsed": false,
    "ExecuteTime": {
     "end_time": "2023-08-23T00:44:40.691843Z",
     "start_time": "2023-08-23T00:44:40.683961Z"
    }
   },
   "id": "bb1914c8f7d9a836"
  },
  {
   "cell_type": "code",
   "execution_count": 8,
   "outputs": [
    {
     "name": "stdout",
     "output_type": "stream",
     "text": [
      "tensor([[1, 2],\n",
      "        [3, 4]])\n"
     ]
    }
   ],
   "source": [
    "np_array = np.array(data)\n",
    "x_np = torch.from_numpy(np_array)\n",
    "\n",
    "print(x_np)"
   ],
   "metadata": {
    "collapsed": false,
    "ExecuteTime": {
     "end_time": "2023-08-23T00:45:21.314355Z",
     "start_time": "2023-08-23T00:45:21.297094Z"
    }
   },
   "id": "2e3d065922df95be"
  },
  {
   "cell_type": "code",
   "execution_count": 5,
   "outputs": [
    {
     "name": "stdout",
     "output_type": "stream",
     "text": [
      "tensor([[1, 1],\n",
      "        [1, 1]])\n",
      "tensor([[0.6329, 0.6959],\n",
      "        [0.7710, 0.7080]])\n"
     ]
    }
   ],
   "source": [
    "x_ones = torch.ones_like(x_data)\n",
    "x_rand = torch.rand_like(x_data, dtype=torch.float)\n",
    "\n",
    "print(x_ones)\n",
    "print(x_rand)"
   ],
   "metadata": {
    "collapsed": false,
    "ExecuteTime": {
     "end_time": "2023-08-23T00:44:30.956495Z",
     "start_time": "2023-08-23T00:44:30.950589Z"
    }
   },
   "id": "5fff4dad7e204f70"
  },
  {
   "cell_type": "code",
   "execution_count": 9,
   "outputs": [
    {
     "name": "stdout",
     "output_type": "stream",
     "text": [
      "tensor([[0.1881, 0.9634, 0.0495],\n",
      "        [0.3696, 0.5629, 0.3127]])\n",
      "tensor([[1., 1., 1.],\n",
      "        [1., 1., 1.]])\n",
      "tensor([[0., 0., 0.],\n",
      "        [0., 0., 0.]])\n"
     ]
    }
   ],
   "source": [
    "shape = (2, 3,)\n",
    "rand_tensor = torch.rand(shape)\n",
    "ones_tensor = torch.ones(shape)\n",
    "zeros_tensor = torch.zeros(shape)\n",
    "\n",
    "print(rand_tensor)\n",
    "print(ones_tensor)\n",
    "print(zeros_tensor)"
   ],
   "metadata": {
    "collapsed": false,
    "ExecuteTime": {
     "end_time": "2023-08-23T00:46:09.574651Z",
     "start_time": "2023-08-23T00:46:09.562733Z"
    }
   },
   "id": "7e84d8b473709ba8"
  },
  {
   "cell_type": "code",
   "execution_count": null,
   "outputs": [],
   "source": [],
   "metadata": {
    "collapsed": false
   },
   "id": "e3b7bc0065bf2359"
  }
 ],
 "metadata": {
  "kernelspec": {
   "display_name": "Python 3",
   "language": "python",
   "name": "python3"
  },
  "language_info": {
   "codemirror_mode": {
    "name": "ipython",
    "version": 2
   },
   "file_extension": ".py",
   "mimetype": "text/x-python",
   "name": "python",
   "nbconvert_exporter": "python",
   "pygments_lexer": "ipython2",
   "version": "2.7.6"
  }
 },
 "nbformat": 4,
 "nbformat_minor": 5
}
